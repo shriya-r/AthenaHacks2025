{
 "cells": [
  {
   "cell_type": "code",
   "execution_count": 62,
   "metadata": {},
   "outputs": [],
   "source": [
    "import pandas as pd\n",
    "from sklearn.model_selection import train_test_split\n",
    "from sklearn.preprocessing import StandardScaler\n",
    "from sklearn.linear_model import LogisticRegression\n",
    "import streamlit as st"
   ]
  },
  {
   "cell_type": "code",
   "execution_count": 63,
   "metadata": {},
   "outputs": [],
   "source": [
    "fires = pd.read_excel('Fires_100.xlsx')\n",
    "fires = fires.dropna()\n",
    "\n"
   ]
  },
  {
   "cell_type": "code",
   "execution_count": 64,
   "metadata": {},
   "outputs": [],
   "source": [
    "weatherdata = pd.read_csv('weatherdata.csv')\n",
    "weatherdata = weatherdata.dropna()\n",
    "weatherdata['Date'] = pd.to_datetime(weatherdata['Date'])\n",
    "weatherdata['Date'] = weatherdata['Date'].dt.date\n",
    "\n",
    "fires['ALARM_DATE'] = pd.to_datetime(fires['ALARM_DATE'])\n",
    "fires['ALARM_DATE'] = fires['ALARM_DATE'].dt.date"
   ]
  },
  {
   "cell_type": "code",
   "execution_count": 65,
   "metadata": {},
   "outputs": [
    {
     "name": "stdout",
     "output_type": "stream",
     "text": [
      "Index(['YEAR_', 'STATE', 'AGENCY', 'UNIT_ID', 'FIRE_NAME', 'INC_NUM',\n",
      "       'ALARM_DATE', 'CONT_DATE', 'CAUSE', 'COMMENTS', 'REPORT_AC',\n",
      "       'GIS_ACRES', 'C_METHOD', 'OBJECTIVE'],\n",
      "      dtype='object')\n",
      "UNIT_ID\n",
      "Sonoma - Lake - Napa CAL FIRE       12\n",
      "Fresno-Kings CAL FIRE               10\n",
      "Modoc National Forest               10\n",
      "Northern CA District - BLM          10\n",
      "San Luis Obispo CAL FIRE             9\n",
      "Madera - Mariposa CAL FIRE           9\n",
      "Riverside CAL FIRE                   7\n",
      "Klamath National Forest              6\n",
      "San Diego CAL FIRE                   5\n",
      "Sequoia National Forest              5\n",
      "Los Angeles County                   5\n",
      "Stanislaus National Forest           5\n",
      "Nevada - Yuba - Placer CAL FIRE      4\n",
      "Santa Barbara County                 4\n",
      "Kern County                          4\n",
      "Santa Clara CAL FIRE                 4\n",
      "Amador - El Dorado CAL FIRE          4\n",
      "Tuolumne - Calaveras CAL FIRE        4\n",
      "Butte CAL FIRE                       3\n",
      "San Bernardino CAL FIRE              3\n",
      "San Bernardino National Forest       3\n",
      "Tulare County                        3\n",
      "Shasta-Trinity National Forest       3\n",
      "Six Rivers National Forest           2\n",
      "Sierra National Forest               2\n",
      "Rouge River- Siskiyou                2\n",
      "Yosemite National Park               2\n",
      "Siskiyou CAL FIRE                    2\n",
      "Shasta - Trinity CAL FIRE            2\n",
      "Orange County                        2\n",
      "Inyo National Forest                 2\n",
      "Los Angeles City FD                  2\n",
      "Cleveland National Forest            2\n",
      "Los Padres National Forest           2\n",
      "Northern California District BLM     1\n",
      "San Mateo - Santa Cruz CAL FIRE      1\n",
      "Monterey - San Benito CAL FIRE       1\n",
      "Tehama - Glenn CAL FIRE              1\n",
      "Ventura County                       1\n",
      "Camp Pendleton Marine Corps Base     1\n",
      "Name: count, dtype: int64\n",
      "Date range: 2017-04-01 to 2018-05-20\n"
     ]
    }
   ],
   "source": [
    "print(fires.columns)\n",
    "print(fires['UNIT_ID'].value_counts())\n",
    "start_date = fires['ALARM_DATE'].min()\n",
    "end_date = fires['ALARM_DATE'].max()\n",
    "\n",
    "# Print the date range\n",
    "print(f\"Date range: {start_date} to {end_date}\")"
   ]
  },
  {
   "cell_type": "code",
   "execution_count": null,
   "metadata": {},
   "outputs": [],
   "source": []
  },
  {
   "cell_type": "code",
   "execution_count": 66,
   "metadata": {},
   "outputs": [
    {
     "name": "stdout",
     "output_type": "stream",
     "text": [
      "['San Luis Obispo' 'Irvine' 'Oakville' 'Fresno State' 'Santa Monica'\n",
      " 'Moorpark']\n",
      "    YEAR_       STATE                                             AGENCY  \\\n",
      "8    2017  California  California Department of Forestry and Fire Pro...   \n",
      "9    2017  California  California Department of Forestry and Fire Pro...   \n",
      "10   2017  California  California Department of Forestry and Fire Pro...   \n",
      "11   2017  California  California Department of Forestry and Fire Pro...   \n",
      "12   2017  California  California Department of Forestry and Fire Pro...   \n",
      "\n",
      "            UNIT_ID FIRE_NAME  INC_NUM  ALARM_DATE  CONT_DATE  \\\n",
      "8   San Luis Obispo      LUCY     6548  2017-06-14 2017-06-14   \n",
      "9   San Luis Obispo     OLIVE     8451  2017-07-24 2017-07-24   \n",
      "10  San Luis Obispo     STONE     7792  2017-07-09 2017-07-11   \n",
      "11  San Luis Obispo     ALAMO     7624  2017-07-06 2017-07-20   \n",
      "12  San Luis Obispo      HILL     7101  2017-06-26 2017-06-30   \n",
      "\n",
      "                CAUSE                                 COMMENTS REPORT_AC  \\\n",
      "8      11 - Powerline          Bird into energized power lines       150   \n",
      "9        10 - Vehicle  Overheated brake and or AC clutch parts       251   \n",
      "10  2 - Equipment Use                                   <Null>       340   \n",
      "11       10 - Vehicle                                   <Null>     26678   \n",
      "12       10 - Vehicle                                   <Null>      1646   \n",
      "\n",
      "     GIS_ACRES                      C_METHOD               OBJECTIVE  \n",
      "8     147.6670                1 - GPS Ground  Suppression (Wildfire)  \n",
      "9     236.8678                1 - GPS Ground  Suppression (Wildfire)  \n",
      "10    340.4365  7 - Mixed Collection Methods  Suppression (Wildfire)  \n",
      "11  28834.1700                   2 - GPS Air  Suppression (Wildfire)  \n",
      "12   1645.5910                1 - GPS Ground  Suppression (Wildfire)  \n"
     ]
    }
   ],
   "source": [
    "cafires = fires[(fires[\"UNIT_ID\"] == \"San Luis Obispo CAL FIRE\" )| # 93401 -- using zip codes to identify the fires\n",
    "                (fires[\"UNIT_ID\"] == \"Orange County\") | # 96006\n",
    "                (fires[\"UNIT_ID\"] == \"Los Angeles County\") | #90089\n",
    "                (fires[\"UNIT_ID\"] == \"Sonoma - Lake - Napa CAL FIRE\") | #93101\n",
    "                (fires[\"UNIT_ID\"] == \"Fresno-Kings CAL FIRE\") |# 93637\n",
    "                (fires[\"UNIT_ID\"] == \"Ventura County\")]\n",
    "\n",
    "# cafires['UNIT_ID'] = cafires['UNIT_ID'].replace('San Luis Obispo CAL FIRE', 'San Luis Obispo')\n",
    "# cafires['UNIT_ID'] = cafires['UNIT_ID'].replace('Sonoma - Lake - Napa CAL FIRE', 'Oakville')\n",
    "# cafires['UNIT_ID'] = cafires['UNIT_ID'].replace('Fresno-Kings CAL FIRE', 'Fresno State')\n",
    "# cafires['UNIT_ID'] = cafires['UNIT_ID'].replace('Ventura County', 'Moorpark')\n",
    "# cafires['UNIT_ID'] = cafires['UNIT_ID'].replace('Orange County', 'Irvine')\n",
    "# cafires['UNIT_ID'] = cafires['UNIT_ID'].replace('Los Angeles County', 'Santa Monica')\n",
    "cafires.loc[:, 'UNIT_ID'] = cafires['UNIT_ID'].replace({\n",
    "    'San Luis Obispo CAL FIRE': 'San Luis Obispo',\n",
    "    'Sonoma - Lake - Napa CAL FIRE': 'Oakville',\n",
    "    'Fresno-Kings CAL FIRE': 'Fresno State',\n",
    "    'Ventura County': 'Moorpark',\n",
    "    'Orange County': 'Irvine',\n",
    "    'Los Angeles County': 'Santa Monica'\n",
    "})\n",
    "\n",
    "\n",
    "print(weatherdata['Stn Name'].unique())\n",
    "print(cafires.head())"
   ]
  },
  {
   "cell_type": "code",
   "execution_count": 68,
   "metadata": {},
   "outputs": [
    {
     "name": "stdout",
     "output_type": "stream",
     "text": [
      "   Stn Id         Stn Name           CIMIS Region        Date  Jul  ETo (in)  \\\n",
      "0      52  San Luis Obispo  Central Coast Valleys  2017-04-01   91      0.18   \n",
      "1      52  San Luis Obispo  Central Coast Valleys  2017-04-02   92      0.16   \n",
      "2      52  San Luis Obispo  Central Coast Valleys  2017-04-03   93      0.16   \n",
      "3      52  San Luis Obispo  Central Coast Valleys  2017-04-04   94      0.17   \n",
      "4      52  San Luis Obispo  Central Coast Valleys  2017-04-05   95      0.18   \n",
      "\n",
      "  qc  Precip (in) qc.1  Sol Rad (Ly/day)  ... qc.9  Dew Point (F) qc.10  \\\n",
      "0             0.0                  552.0  ...                44.7         \n",
      "1             0.0                  560.0  ...                52.7         \n",
      "2             0.0                  541.0  ...                52.6         \n",
      "3             0.0                  553.0  ...                48.5         \n",
      "4             0.0                  547.0  ...                50.0         \n",
      "\n",
      "   Avg Wind Speed (mph) qc.11  Wind Run (miles) qc.12  Avg Soil Temp (F)  \\\n",
      "0                   2.9                    70.3                     59.9   \n",
      "1                   2.8                    68.3                     60.3   \n",
      "2                   3.0                    72.1                     61.5   \n",
      "3                   2.9                    70.0                     61.2   \n",
      "4                   2.5                    60.9                     61.4   \n",
      "\n",
      "  qc.13  FireOccurred  \n",
      "0                   0  \n",
      "1                   0  \n",
      "2                   0  \n",
      "3                   0  \n",
      "4                   0  \n",
      "\n",
      "[5 rows x 34 columns]\n"
     ]
    }
   ],
   "source": [
    "\n",
    "# Create a set of fire dates for fast lookup\n",
    "fire_date_sets = {\n",
    "    \"San Luis Obispo\": set(cafires[cafires[\"UNIT_ID\"] == \"San Luis Obispo\"]['ALARM_DATE']),\n",
    "    \"Oakville\": set(cafires[cafires[\"UNIT_ID\"] == \"Oakville\"]['ALARM_DATE']),\n",
    "    \"Fresno State\": set(cafires[cafires[\"UNIT_ID\"] == \"Fresno State\"]['ALARM_DATE']),\n",
    "    \"Moorpark\": set(cafires[cafires[\"UNIT_ID\"] == \"Moorpark\"]['ALARM_DATE']),\n",
    "    \"Irvine\": set(cafires[cafires[\"UNIT_ID\"] == \"Irvine\"]['ALARM_DATE']),\n",
    "    \"Santa Monica\": set(cafires[cafires[\"UNIT_ID\"] == \"Santa Monica\"]['ALARM_DATE'])\n",
    "}\n",
    "\n",
    "\n",
    "# Function to check if fire occurred based on county and date\n",
    "def fire_occurred(row):\n",
    "    county = row['Stn Name']\n",
    "    date = row['Date']\n",
    "    \n",
    "    if county in fire_date_sets and date in fire_date_sets[county]:\n",
    "        return 1\n",
    "    return 0\n",
    "\n",
    "# Apply function to determine fire occurrence\n",
    "weatherdata['FireOccurred'] = weatherdata.apply(fire_occurred, axis=1)\n",
    "\n",
    "# Print the updated DataFrame\n",
    "print(weatherdata.head())"
   ]
  },
  {
   "cell_type": "code",
   "execution_count": 77,
   "metadata": {},
   "outputs": [],
   "source": [
    "X = weatherdata[['Precip (in)', 'Max Air Temp (F)', 'Min Air Temp (F)', 'Avg Rel Hum (%)', 'Avg Wind Speed (mph)', \n",
    "                 'Dew Point (F)']]\n",
    "Y = weatherdata['FireOccurred']\n",
    "\n",
    "\n",
    "X_train, X_test, Y_train, Y_test = train_test_split(X, Y, test_size=0.2, random_state=42)\n",
    "\n",
    "\n",
    "# Scale numerical features\n",
    "scaler = StandardScaler()\n",
    "X_train = scaler.fit_transform(X_train)\n",
    "X_test = scaler.transform(X_test)\n",
    "\n"
   ]
  },
  {
   "cell_type": "code",
   "execution_count": 78,
   "metadata": {},
   "outputs": [
    {
     "name": "stdout",
     "output_type": "stream",
     "text": [
      "Logistic Regression Equation: log(P/1-P) = -5.2191 + (-0.7019) * Precip (in) + (0.8128) * Max Air Temp (F) + (-0.0624) * Min Air Temp (F) + (-0.3607) * Avg Rel Hum (%) + (0.3915) * Avg Wind Speed (mph) + (0.2221) * Dew Point (F)\n"
     ]
    }
   ],
   "source": [
    "# Initialize model\n",
    "model = LogisticRegression()\n",
    "\n",
    "# Train the model\n",
    "model.fit(X_train, Y_train)\n",
    "\n",
    "# Print the logistic regression equation\n",
    "intercept = model.intercept_[0]  # Intercept (bias)\n",
    "coefficients = model.coef_[0]   # Coefficients for each feature\n",
    "\n",
    "# Feature names (assuming 'X' is your features DataFrame)\n",
    "feature_names = X.columns\n",
    "\n",
    "# Construct the equation\n",
    "equation = f\"Logistic Regression Equation: log(P/1-P) = {intercept:.4f}\"\n",
    "for i in range(len(coefficients)):\n",
    "    equation += f\" + ({coefficients[i]:.4f}) * {feature_names[i]}\"\n",
    "\n",
    "print(equation)\n",
    "\n"
   ]
  },
  {
   "cell_type": "code",
   "execution_count": 80,
   "metadata": {},
   "outputs": [
    {
     "name": "stdout",
     "output_type": "stream",
     "text": [
      "Model Accuracy: 0.98\n",
      "              precision    recall  f1-score   support\n",
      "\n",
      "           0       0.98      1.00      0.99       469\n",
      "           1       0.00      0.00      0.00         9\n",
      "\n",
      "    accuracy                           0.98       478\n",
      "   macro avg       0.49      0.50      0.50       478\n",
      "weighted avg       0.96      0.98      0.97       478\n",
      "\n"
     ]
    },
    {
     "name": "stderr",
     "output_type": "stream",
     "text": [
      "c:\\Users\\Ellis\\anaconda3\\Lib\\site-packages\\sklearn\\metrics\\_classification.py:1509: UndefinedMetricWarning: Precision is ill-defined and being set to 0.0 in labels with no predicted samples. Use `zero_division` parameter to control this behavior.\n",
      "  _warn_prf(average, modifier, f\"{metric.capitalize()} is\", len(result))\n",
      "c:\\Users\\Ellis\\anaconda3\\Lib\\site-packages\\sklearn\\metrics\\_classification.py:1509: UndefinedMetricWarning: Precision is ill-defined and being set to 0.0 in labels with no predicted samples. Use `zero_division` parameter to control this behavior.\n",
      "  _warn_prf(average, modifier, f\"{metric.capitalize()} is\", len(result))\n",
      "c:\\Users\\Ellis\\anaconda3\\Lib\\site-packages\\sklearn\\metrics\\_classification.py:1509: UndefinedMetricWarning: Precision is ill-defined and being set to 0.0 in labels with no predicted samples. Use `zero_division` parameter to control this behavior.\n",
      "  _warn_prf(average, modifier, f\"{metric.capitalize()} is\", len(result))\n"
     ]
    }
   ],
   "source": [
    "\n",
    "from sklearn.metrics import accuracy_score, classification_report\n",
    "\n",
    "# Predict on test set\n",
    "y_pred = model.predict(X_test)\n",
    "\n",
    "# Check accuracy\n",
    "accuracy = accuracy_score(Y_test, y_pred)\n",
    "print(f\"Model Accuracy: {accuracy:.2f}\")\n",
    "\n",
    "# Print detailed performance metrics\n",
    "print(classification_report(Y_test, y_pred))\n",
    "\n"
   ]
  },
  {
   "cell_type": "code",
   "execution_count": 83,
   "metadata": {},
   "outputs": [
    {
     "name": "stdout",
     "output_type": "stream",
     "text": [
      "Fire will occur\n"
     ]
    }
   ],
   "source": [
    "\n",
    "# if you input test data, do \n",
    "data=[[0, 150, 140, 0, 100, 10]]\n",
    "\n",
    "prediction = model.predict(data)\n",
    "\n",
    "if prediction[0] == 1:\n",
    "    print(\"Fire will occur\")"
   ]
  }
 ],
 "metadata": {
  "kernelspec": {
   "display_name": "base",
   "language": "python",
   "name": "python3"
  },
  "language_info": {
   "codemirror_mode": {
    "name": "ipython",
    "version": 3
   },
   "file_extension": ".py",
   "mimetype": "text/x-python",
   "name": "python",
   "nbconvert_exporter": "python",
   "pygments_lexer": "ipython3",
   "version": "3.12.4"
  }
 },
 "nbformat": 4,
 "nbformat_minor": 2
}
